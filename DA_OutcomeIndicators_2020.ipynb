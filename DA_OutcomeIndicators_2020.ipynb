{
 "cells": [
  {
   "cell_type": "code",
   "execution_count": 1,
   "metadata": {},
   "outputs": [],
   "source": [
    "import numpy as np\n",
    "import pandas as pd\n",
    "import matplotlib.pyplot as plt\n",
    "from pandas_profiling import ProfileReport\n",
    "\n",
    "%matplotlib inline"
   ]
  },
  {
   "cell_type": "code",
   "execution_count": 2,
   "metadata": {},
   "outputs": [
    {
     "data": {
      "text/plain": [
       "'1.19.2'"
      ]
     },
     "execution_count": 2,
     "metadata": {},
     "output_type": "execute_result"
    }
   ],
   "source": [
    "np.__version__"
   ]
  },
  {
   "cell_type": "code",
   "execution_count": 3,
   "metadata": {},
   "outputs": [
    {
     "data": {
      "text/plain": [
       "'1.1.3'"
      ]
     },
     "execution_count": 3,
     "metadata": {},
     "output_type": "execute_result"
    }
   ],
   "source": [
    "pd.__version__"
   ]
  },
  {
   "cell_type": "code",
   "execution_count": 4,
   "metadata": {},
   "outputs": [],
   "source": [
    "qtr1_2019 = pd.read_csv('Dataset/Nikshay/PatientWiseDetails/QTR12019_PatientWiseDetails.csv')"
   ]
  },
  {
   "cell_type": "code",
   "execution_count": 5,
   "metadata": {},
   "outputs": [],
   "source": [
    "qtr2_2019 = pd.read_csv('Dataset/Nikshay/PatientWiseDetails/QTR22019_PatientWiseDetails.csv')"
   ]
  },
  {
   "cell_type": "code",
   "execution_count": 6,
   "metadata": {},
   "outputs": [],
   "source": [
    "qtr3_2019 = pd.read_csv('Dataset/Nikshay/PatientWiseDetails/QTR32019_PatientWiseDetails.csv')"
   ]
  },
  {
   "cell_type": "code",
   "execution_count": 7,
   "metadata": {},
   "outputs": [],
   "source": [
    "qtr4_2019 = pd.read_csv('Dataset/Nikshay/PatientWiseDetails/QTR42019_PatientWiseDetails.csv')"
   ]
  },
  {
   "cell_type": "code",
   "execution_count": 8,
   "metadata": {},
   "outputs": [
    {
     "data": {
      "text/plain": [
       "(167, 63)"
      ]
     },
     "execution_count": 8,
     "metadata": {},
     "output_type": "execute_result"
    }
   ],
   "source": [
    "qtr1_2019.shape"
   ]
  },
  {
   "cell_type": "code",
   "execution_count": 9,
   "metadata": {},
   "outputs": [
    {
     "data": {
      "text/plain": [
       "(132, 63)"
      ]
     },
     "execution_count": 9,
     "metadata": {},
     "output_type": "execute_result"
    }
   ],
   "source": [
    "qtr2_2019.shape"
   ]
  },
  {
   "cell_type": "code",
   "execution_count": 10,
   "metadata": {},
   "outputs": [
    {
     "data": {
      "text/plain": [
       "(152, 63)"
      ]
     },
     "execution_count": 10,
     "metadata": {},
     "output_type": "execute_result"
    }
   ],
   "source": [
    "qtr3_2019.shape"
   ]
  },
  {
   "cell_type": "code",
   "execution_count": 11,
   "metadata": {},
   "outputs": [
    {
     "data": {
      "text/plain": [
       "(129, 63)"
      ]
     },
     "execution_count": 11,
     "metadata": {},
     "output_type": "execute_result"
    }
   ],
   "source": [
    "qtr4_2019.shape"
   ]
  },
  {
   "cell_type": "code",
   "execution_count": 12,
   "metadata": {},
   "outputs": [
    {
     "data": {
      "text/plain": [
       "580"
      ]
     },
     "execution_count": 12,
     "metadata": {},
     "output_type": "execute_result"
    }
   ],
   "source": [
    "qtr1_2019.shape[0] + qtr2_2019.shape[0] + qtr3_2019.shape[0] + qtr4_2019.shape[0]"
   ]
  },
  {
   "cell_type": "markdown",
   "metadata": {},
   "source": [
    "#### Total number of TB cases notified in 2019 = 580"
   ]
  },
  {
   "cell_type": "markdown",
   "metadata": {},
   "source": [
    "### Finding total number of patients that completed treatement 2019"
   ]
  },
  {
   "cell_type": "code",
   "execution_count": 13,
   "metadata": {},
   "outputs": [
    {
     "data": {
      "text/plain": [
       "Index(['DiagnosingFacilityState', 'DiagnosingFacilityDistrict',\n",
       "       'DiagnosingFacilityTBU', 'DiagnosingFacilityPHI',\n",
       "       'DiagnosingFacilityPHIType', 'DiagnosingFacilityPHI_ID',\n",
       "       'DiagnosisDate', 'EnrollmentDate', 'EpisodeID', 'OldNikshayId',\n",
       "       'PatientId', 'Patient_Status', 'PatientName', 'Age', 'Gender', 'Weight',\n",
       "       'Patient_Address', 'Taluka', 'Town', 'Ward', 'Landmark', 'Pincode',\n",
       "       'Residential_State', 'Residential_District', 'Residential_TU',\n",
       "       'PrimaryPhone', 'KeyPopulation', 'EnrollmentFacilityState',\n",
       "       'EnrollmentFacilityDistrict', 'EnrollmentFacilityTBU',\n",
       "       'EnrollmentFacilityPHI', 'EnrollmentFacilityPHIType',\n",
       "       'EnrollmentFacilityPHI_ID', 'UserID_Enrollment', 'HIV_Status',\n",
       "       'DiabetesStatus', 'basisOfDiagnosis_TestName',\n",
       "       'basisOfDiagnosis_LabSerialNo', 'basisOfDiagnosis_FinalInterpretation',\n",
       "       'Microbiologically_Confirmed', 'DateOf_TB_Treatment_Initiation',\n",
       "       'CurrentFacilityState', 'CurrentFacilityDistrict', 'CurrentFacilityTBU',\n",
       "       'CurrentFacilityPHI', 'CurrentFacilityPHIType', 'CurrentFacilityPHI_ID',\n",
       "       'TypeOfCase', 'PMDT_RegimenType', 'SiteOfDisease', 'EPSite',\n",
       "       'Treatment_Outcome', 'Treatment_Outcome_Date', 'BankDetailsAdded',\n",
       "       'FollowupDone_Count', 'ContactTracing_Done', 'UDST_Done',\n",
       "       'EndOfIP_SM_DateOfReport', 'EndOfIP_LabID',\n",
       "       'EndOfIP_FinalInterpretation', 'EndOfCP_SM_DateOfReport',\n",
       "       'EndOfCP_LabID', 'EndOfCP_FinalInterpretation'],\n",
       "      dtype='object')"
      ]
     },
     "execution_count": 13,
     "metadata": {},
     "output_type": "execute_result"
    }
   ],
   "source": [
    "qtr1_2019.columns"
   ]
  },
  {
   "cell_type": "code",
   "execution_count": 14,
   "metadata": {},
   "outputs": [
    {
     "data": {
      "text/plain": [
       "TREATMENT_COMPLETE           98\n",
       "CURED                        50\n",
       "DIED                          8\n",
       "LOST_TO_FOLLOW_UP             4\n",
       "TREATMENT_REGIMEN_CHANGED     4\n",
       "NOT_EVALUATED                 1\n",
       "TREATMENT_FAILURE             1\n",
       "Name: Treatment_Outcome, dtype: int64"
      ]
     },
     "execution_count": 14,
     "metadata": {},
     "output_type": "execute_result"
    }
   ],
   "source": [
    "qtr1_2019['Treatment_Outcome'].value_counts()"
   ]
  },
  {
   "cell_type": "code",
   "execution_count": 15,
   "metadata": {},
   "outputs": [
    {
     "data": {
      "text/plain": [
       "98"
      ]
     },
     "execution_count": 15,
     "metadata": {},
     "output_type": "execute_result"
    }
   ],
   "source": [
    "qtr1_2019.loc[qtr1_2019['Treatment_Outcome'] == 'TREATMENT_COMPLETE'].shape[0]"
   ]
  },
  {
   "cell_type": "code",
   "execution_count": 16,
   "metadata": {},
   "outputs": [
    {
     "data": {
      "text/plain": [
       "73"
      ]
     },
     "execution_count": 16,
     "metadata": {},
     "output_type": "execute_result"
    }
   ],
   "source": [
    "qtr2_2019.loc[qtr2_2019['Treatment_Outcome'] == 'TREATMENT_COMPLETE'].shape[0]"
   ]
  },
  {
   "cell_type": "code",
   "execution_count": 17,
   "metadata": {},
   "outputs": [
    {
     "data": {
      "text/plain": [
       "90"
      ]
     },
     "execution_count": 17,
     "metadata": {},
     "output_type": "execute_result"
    }
   ],
   "source": [
    "qtr3_2019.loc[qtr3_2019['Treatment_Outcome'] == 'TREATMENT_COMPLETE'].shape[0]"
   ]
  },
  {
   "cell_type": "code",
   "execution_count": 18,
   "metadata": {},
   "outputs": [
    {
     "data": {
      "text/plain": [
       "65"
      ]
     },
     "execution_count": 18,
     "metadata": {},
     "output_type": "execute_result"
    }
   ],
   "source": [
    "qtr4_2019.loc[qtr4_2019['Treatment_Outcome'] == 'TREATMENT_COMPLETE'].shape[0]"
   ]
  },
  {
   "cell_type": "code",
   "execution_count": 19,
   "metadata": {},
   "outputs": [
    {
     "data": {
      "text/plain": [
       "326"
      ]
     },
     "execution_count": 19,
     "metadata": {},
     "output_type": "execute_result"
    }
   ],
   "source": [
    "98+73+90+65"
   ]
  },
  {
   "cell_type": "markdown",
   "metadata": {},
   "source": [
    "#### Number of patients with treatment complete = 326"
   ]
  },
  {
   "cell_type": "markdown",
   "metadata": {},
   "source": [
    "### Finding no. of TB patients developing recurrence within 1 year of treatment"
   ]
  },
  {
   "cell_type": "code",
   "execution_count": 20,
   "metadata": {},
   "outputs": [],
   "source": [
    "qtr1_2019_TreatmentComplete = qtr1_2019.loc[(qtr1_2019['Treatment_Outcome'] == 'TREATMENT_COMPLETE') , ['PatientId', 'PatientName']]"
   ]
  },
  {
   "cell_type": "code",
   "execution_count": 21,
   "metadata": {},
   "outputs": [],
   "source": [
    "qtr3_2019_TreatmentComplete = qtr3_2019.loc[(qtr3_2019['Treatment_Outcome'] == 'TREATMENT_COMPLETE') , ['PatientId', 'PatientName']]"
   ]
  },
  {
   "cell_type": "code",
   "execution_count": 22,
   "metadata": {},
   "outputs": [],
   "source": [
    "qtr2_2019_TreatmentComplete = qtr2_2019.loc[(qtr2_2019['Treatment_Outcome'] == 'TREATMENT_COMPLETE') , ['PatientId', 'PatientName']]"
   ]
  },
  {
   "cell_type": "code",
   "execution_count": 23,
   "metadata": {},
   "outputs": [],
   "source": [
    "qtr4_2019_TreatmentComplete = qtr4_2019.loc[(qtr4_2019['Treatment_Outcome'] == 'TREATMENT_COMPLETE') , ['PatientId', 'PatientName']]"
   ]
  },
  {
   "cell_type": "code",
   "execution_count": 24,
   "metadata": {},
   "outputs": [
    {
     "data": {
      "text/html": [
       "<div>\n",
       "<style scoped>\n",
       "    .dataframe tbody tr th:only-of-type {\n",
       "        vertical-align: middle;\n",
       "    }\n",
       "\n",
       "    .dataframe tbody tr th {\n",
       "        vertical-align: top;\n",
       "    }\n",
       "\n",
       "    .dataframe thead th {\n",
       "        text-align: right;\n",
       "    }\n",
       "</style>\n",
       "<table border=\"1\" class=\"dataframe\">\n",
       "  <thead>\n",
       "    <tr style=\"text-align: right;\">\n",
       "      <th></th>\n",
       "      <th>PatientId</th>\n",
       "      <th>PatientName</th>\n",
       "    </tr>\n",
       "  </thead>\n",
       "  <tbody>\n",
       "    <tr>\n",
       "      <th>0</th>\n",
       "      <td>6415141</td>\n",
       "      <td>THOMUS THOMUS</td>\n",
       "    </tr>\n",
       "    <tr>\n",
       "      <th>1</th>\n",
       "      <td>7431151</td>\n",
       "      <td>ISRAEL NICODIMUS</td>\n",
       "    </tr>\n",
       "    <tr>\n",
       "      <th>2</th>\n",
       "      <td>8298755</td>\n",
       "      <td>ALEXIS ABRAHAM</td>\n",
       "    </tr>\n",
       "    <tr>\n",
       "      <th>5</th>\n",
       "      <td>7410821</td>\n",
       "      <td>WHITENEY WATSON</td>\n",
       "    </tr>\n",
       "    <tr>\n",
       "      <th>7</th>\n",
       "      <td>7498034</td>\n",
       "      <td>LOWRANCE LOWRANCE</td>\n",
       "    </tr>\n",
       "    <tr>\n",
       "      <th>...</th>\n",
       "      <td>...</td>\n",
       "      <td>...</td>\n",
       "    </tr>\n",
       "    <tr>\n",
       "      <th>161</th>\n",
       "      <td>8370106</td>\n",
       "      <td>BHOGRAJU RAO</td>\n",
       "    </tr>\n",
       "    <tr>\n",
       "      <th>162</th>\n",
       "      <td>7396577</td>\n",
       "      <td>MARIYAM DUNG DUNG DUNG DUNG</td>\n",
       "    </tr>\n",
       "    <tr>\n",
       "      <th>163</th>\n",
       "      <td>7396624</td>\n",
       "      <td>G.UMAPATHI</td>\n",
       "    </tr>\n",
       "    <tr>\n",
       "      <th>164</th>\n",
       "      <td>7402539</td>\n",
       "      <td>S KUMARA  KEERTHAN</td>\n",
       "    </tr>\n",
       "    <tr>\n",
       "      <th>166</th>\n",
       "      <td>7450050</td>\n",
       "      <td>V. IREEN</td>\n",
       "    </tr>\n",
       "  </tbody>\n",
       "</table>\n",
       "<p>98 rows × 2 columns</p>\n",
       "</div>"
      ],
      "text/plain": [
       "     PatientId                  PatientName\n",
       "0      6415141                THOMUS THOMUS\n",
       "1      7431151             ISRAEL NICODIMUS\n",
       "2      8298755               ALEXIS ABRAHAM\n",
       "5      7410821              WHITENEY WATSON\n",
       "7      7498034            LOWRANCE LOWRANCE\n",
       "..         ...                          ...\n",
       "161    8370106                 BHOGRAJU RAO\n",
       "162    7396577  MARIYAM DUNG DUNG DUNG DUNG\n",
       "163    7396624              G.UMAPATHI     \n",
       "164    7402539           S KUMARA  KEERTHAN\n",
       "166    7450050                  V. IREEN   \n",
       "\n",
       "[98 rows x 2 columns]"
      ]
     },
     "execution_count": 24,
     "metadata": {},
     "output_type": "execute_result"
    }
   ],
   "source": [
    "qtr1_2019_TreatmentComplete"
   ]
  },
  {
   "cell_type": "code",
   "execution_count": 25,
   "metadata": {},
   "outputs": [],
   "source": [
    "qtr1_2020 = pd.read_csv('Dataset/Nikshay/PatientWiseDetails/QRT12020_PatientWiseDetails.csv')"
   ]
  },
  {
   "cell_type": "code",
   "execution_count": 26,
   "metadata": {},
   "outputs": [],
   "source": [
    "qtr2_2020 = pd.read_csv('Dataset/Nikshay/PatientWiseDetails/QRT22020_PatientWiseDetails.csv')"
   ]
  },
  {
   "cell_type": "code",
   "execution_count": 27,
   "metadata": {},
   "outputs": [],
   "source": [
    "qtr3_2020 = pd.read_csv('Dataset/Nikshay/PatientWiseDetails/QRT32020_PatientWiseDetails.csv')"
   ]
  },
  {
   "cell_type": "code",
   "execution_count": 28,
   "metadata": {},
   "outputs": [],
   "source": [
    "qtr4_2020 = pd.read_csv('Dataset/Nikshay/PatientWiseDetails/QRT42020_PatientWiseDetails.csv')"
   ]
  },
  {
   "cell_type": "code",
   "execution_count": 29,
   "metadata": {},
   "outputs": [
    {
     "data": {
      "text/plain": [
       "New                                     143\n",
       "PMDT                                     14\n",
       "Retreatment: Others                       5\n",
       "Retreatment: Recurrent                    2\n",
       "Retreatment: Treatment after failure      1\n",
       "Name: TypeOfCase, dtype: int64"
      ]
     },
     "execution_count": 29,
     "metadata": {},
     "output_type": "execute_result"
    }
   ],
   "source": [
    "qtr1_2020['TypeOfCase'].value_counts()"
   ]
  },
  {
   "cell_type": "code",
   "execution_count": 30,
   "metadata": {},
   "outputs": [],
   "source": [
    "qtr1_2020_RecurrentPatients = qtr1_2020.loc[(qtr1_2020['TypeOfCase']=='Retreatment: Recurrent'), ['PatientId', 'PatientName']]"
   ]
  },
  {
   "cell_type": "code",
   "execution_count": 31,
   "metadata": {},
   "outputs": [
    {
     "data": {
      "text/html": [
       "<div>\n",
       "<style scoped>\n",
       "    .dataframe tbody tr th:only-of-type {\n",
       "        vertical-align: middle;\n",
       "    }\n",
       "\n",
       "    .dataframe tbody tr th {\n",
       "        vertical-align: top;\n",
       "    }\n",
       "\n",
       "    .dataframe thead th {\n",
       "        text-align: right;\n",
       "    }\n",
       "</style>\n",
       "<table border=\"1\" class=\"dataframe\">\n",
       "  <thead>\n",
       "    <tr style=\"text-align: right;\">\n",
       "      <th></th>\n",
       "      <th>PatientId</th>\n",
       "      <th>PatientName</th>\n",
       "    </tr>\n",
       "  </thead>\n",
       "  <tbody>\n",
       "    <tr>\n",
       "      <th>89</th>\n",
       "      <td>13634047</td>\n",
       "      <td>ASHA BARLA</td>\n",
       "    </tr>\n",
       "    <tr>\n",
       "      <th>96</th>\n",
       "      <td>13699652</td>\n",
       "      <td>ASHIFA .</td>\n",
       "    </tr>\n",
       "  </tbody>\n",
       "</table>\n",
       "</div>"
      ],
      "text/plain": [
       "    PatientId PatientName\n",
       "89   13634047  ASHA BARLA\n",
       "96   13699652    ASHIFA ."
      ]
     },
     "execution_count": 31,
     "metadata": {},
     "output_type": "execute_result"
    }
   ],
   "source": [
    "qtr1_2020_RecurrentPatients"
   ]
  },
  {
   "cell_type": "code",
   "execution_count": 32,
   "metadata": {},
   "outputs": [
    {
     "data": {
      "text/html": [
       "<div>\n",
       "<style scoped>\n",
       "    .dataframe tbody tr th:only-of-type {\n",
       "        vertical-align: middle;\n",
       "    }\n",
       "\n",
       "    .dataframe tbody tr th {\n",
       "        vertical-align: top;\n",
       "    }\n",
       "\n",
       "    .dataframe thead th {\n",
       "        text-align: right;\n",
       "    }\n",
       "</style>\n",
       "<table border=\"1\" class=\"dataframe\">\n",
       "  <thead>\n",
       "    <tr style=\"text-align: right;\">\n",
       "      <th></th>\n",
       "      <th>PatientId</th>\n",
       "      <th>PatientName</th>\n",
       "    </tr>\n",
       "  </thead>\n",
       "  <tbody>\n",
       "    <tr>\n",
       "      <th>11</th>\n",
       "      <td>14290044</td>\n",
       "      <td>CAPRIATI HINGIS</td>\n",
       "    </tr>\n",
       "    <tr>\n",
       "      <th>39</th>\n",
       "      <td>14508755</td>\n",
       "      <td>BINOD LAKRA</td>\n",
       "    </tr>\n",
       "    <tr>\n",
       "      <th>43</th>\n",
       "      <td>14510078</td>\n",
       "      <td>APPAL SWAMY</td>\n",
       "    </tr>\n",
       "    <tr>\n",
       "      <th>60</th>\n",
       "      <td>14609709</td>\n",
       "      <td>T KAMALA</td>\n",
       "    </tr>\n",
       "    <tr>\n",
       "      <th>72</th>\n",
       "      <td>14629411</td>\n",
       "      <td>JANE ELAIZAH</td>\n",
       "    </tr>\n",
       "    <tr>\n",
       "      <th>73</th>\n",
       "      <td>14651785</td>\n",
       "      <td>ARBIND DAS</td>\n",
       "    </tr>\n",
       "    <tr>\n",
       "      <th>80</th>\n",
       "      <td>14681746</td>\n",
       "      <td>D SREE LAXMI</td>\n",
       "    </tr>\n",
       "  </tbody>\n",
       "</table>\n",
       "</div>"
      ],
      "text/plain": [
       "    PatientId      PatientName\n",
       "11   14290044  CAPRIATI HINGIS\n",
       "39   14508755      BINOD LAKRA\n",
       "43   14510078      APPAL SWAMY\n",
       "60   14609709         T KAMALA\n",
       "72   14629411     JANE ELAIZAH\n",
       "73   14651785       ARBIND DAS\n",
       "80   14681746     D SREE LAXMI"
      ]
     },
     "execution_count": 32,
     "metadata": {},
     "output_type": "execute_result"
    }
   ],
   "source": [
    "qtr2_2020_RecurrentPatients = qtr2_2020.loc[(qtr2_2020['TypeOfCase']=='Retreatment: Recurrent'), ['PatientId', 'PatientName']]\n",
    "qtr2_2020_RecurrentPatients"
   ]
  },
  {
   "cell_type": "code",
   "execution_count": 33,
   "metadata": {},
   "outputs": [
    {
     "data": {
      "text/html": [
       "<div>\n",
       "<style scoped>\n",
       "    .dataframe tbody tr th:only-of-type {\n",
       "        vertical-align: middle;\n",
       "    }\n",
       "\n",
       "    .dataframe tbody tr th {\n",
       "        vertical-align: top;\n",
       "    }\n",
       "\n",
       "    .dataframe thead th {\n",
       "        text-align: right;\n",
       "    }\n",
       "</style>\n",
       "<table border=\"1\" class=\"dataframe\">\n",
       "  <thead>\n",
       "    <tr style=\"text-align: right;\">\n",
       "      <th></th>\n",
       "      <th>PatientId</th>\n",
       "      <th>PatientName</th>\n",
       "    </tr>\n",
       "  </thead>\n",
       "  <tbody>\n",
       "    <tr>\n",
       "      <th>31</th>\n",
       "      <td>14860731</td>\n",
       "      <td>JULIE HERBAN</td>\n",
       "    </tr>\n",
       "    <tr>\n",
       "      <th>40</th>\n",
       "      <td>14932590</td>\n",
       "      <td>SILAS PAUL</td>\n",
       "    </tr>\n",
       "    <tr>\n",
       "      <th>67</th>\n",
       "      <td>15382579</td>\n",
       "      <td>S COLOSTICA TIGGA</td>\n",
       "    </tr>\n",
       "  </tbody>\n",
       "</table>\n",
       "</div>"
      ],
      "text/plain": [
       "    PatientId        PatientName\n",
       "31   14860731       JULIE HERBAN\n",
       "40   14932590         SILAS PAUL\n",
       "67   15382579  S COLOSTICA TIGGA"
      ]
     },
     "execution_count": 33,
     "metadata": {},
     "output_type": "execute_result"
    }
   ],
   "source": [
    "qtr3_2020_RecurrentPatients = qtr3_2020.loc[(qtr3_2020['TypeOfCase']=='Retreatment: Recurrent'), ['PatientId', 'PatientName']]\n",
    "qtr3_2020_RecurrentPatients"
   ]
  },
  {
   "cell_type": "code",
   "execution_count": 34,
   "metadata": {},
   "outputs": [
    {
     "data": {
      "text/html": [
       "<div>\n",
       "<style scoped>\n",
       "    .dataframe tbody tr th:only-of-type {\n",
       "        vertical-align: middle;\n",
       "    }\n",
       "\n",
       "    .dataframe tbody tr th {\n",
       "        vertical-align: top;\n",
       "    }\n",
       "\n",
       "    .dataframe thead th {\n",
       "        text-align: right;\n",
       "    }\n",
       "</style>\n",
       "<table border=\"1\" class=\"dataframe\">\n",
       "  <thead>\n",
       "    <tr style=\"text-align: right;\">\n",
       "      <th></th>\n",
       "      <th>PatientId</th>\n",
       "      <th>PatientName</th>\n",
       "    </tr>\n",
       "  </thead>\n",
       "  <tbody>\n",
       "    <tr>\n",
       "      <th>21</th>\n",
       "      <td>15740105</td>\n",
       "      <td>NEOMI NEOMI</td>\n",
       "    </tr>\n",
       "    <tr>\n",
       "      <th>36</th>\n",
       "      <td>15826868</td>\n",
       "      <td>FESTUS JACK</td>\n",
       "    </tr>\n",
       "    <tr>\n",
       "      <th>85</th>\n",
       "      <td>16212384</td>\n",
       "      <td>RAJU MONDAL</td>\n",
       "    </tr>\n",
       "    <tr>\n",
       "      <th>91</th>\n",
       "      <td>16345070</td>\n",
       "      <td>VARONA VARONA</td>\n",
       "    </tr>\n",
       "  </tbody>\n",
       "</table>\n",
       "</div>"
      ],
      "text/plain": [
       "    PatientId    PatientName\n",
       "21   15740105    NEOMI NEOMI\n",
       "36   15826868    FESTUS JACK\n",
       "85   16212384    RAJU MONDAL\n",
       "91   16345070  VARONA VARONA"
      ]
     },
     "execution_count": 34,
     "metadata": {},
     "output_type": "execute_result"
    }
   ],
   "source": [
    "qtr4_2020_RecurrentPatients = qtr4_2020.loc[(qtr4_2020['TypeOfCase']=='Retreatment: Recurrent'), ['PatientId', 'PatientName']]\n",
    "qtr4_2020_RecurrentPatients"
   ]
  },
  {
   "cell_type": "code",
   "execution_count": 35,
   "metadata": {},
   "outputs": [
    {
     "data": {
      "text/html": [
       "<div>\n",
       "<style scoped>\n",
       "    .dataframe tbody tr th:only-of-type {\n",
       "        vertical-align: middle;\n",
       "    }\n",
       "\n",
       "    .dataframe tbody tr th {\n",
       "        vertical-align: top;\n",
       "    }\n",
       "\n",
       "    .dataframe thead th {\n",
       "        text-align: right;\n",
       "    }\n",
       "</style>\n",
       "<table border=\"1\" class=\"dataframe\">\n",
       "  <thead>\n",
       "    <tr style=\"text-align: right;\">\n",
       "      <th></th>\n",
       "      <th>DiagnosingFacilityState</th>\n",
       "      <th>DiagnosingFacilityDistrict</th>\n",
       "      <th>DiagnosingFacilityTBU</th>\n",
       "      <th>DiagnosingFacilityPHI</th>\n",
       "      <th>DiagnosingFacilityPHIType</th>\n",
       "      <th>DiagnosingFacilityPHI_ID</th>\n",
       "      <th>DiagnosisDate</th>\n",
       "      <th>EnrollmentDate</th>\n",
       "      <th>EpisodeID</th>\n",
       "      <th>OldNikshayId</th>\n",
       "      <th>...</th>\n",
       "      <th>BankDetailsAdded</th>\n",
       "      <th>FollowupDone_Count</th>\n",
       "      <th>ContactTracing_Done</th>\n",
       "      <th>UDST_Done</th>\n",
       "      <th>EndOfIP_SM_DateOfReport</th>\n",
       "      <th>EndOfIP_LabID</th>\n",
       "      <th>EndOfIP_FinalInterpretation</th>\n",
       "      <th>EndOfCP_SM_DateOfReport</th>\n",
       "      <th>EndOfCP_LabID</th>\n",
       "      <th>EndOfCP_FinalInterpretation</th>\n",
       "    </tr>\n",
       "  </thead>\n",
       "  <tbody>\n",
       "    <tr>\n",
       "      <th>116</th>\n",
       "      <td>ANDAMAN &amp; NICOBAR ISLANDS</td>\n",
       "      <td>SOUTH ANDAMAN</td>\n",
       "      <td>PORT BLAIR</td>\n",
       "      <td>G B PANT HOSPITAL</td>\n",
       "      <td>PHI</td>\n",
       "      <td>4</td>\n",
       "      <td>16/03/20</td>\n",
       "      <td>18/03/20</td>\n",
       "      <td>13799542</td>\n",
       "      <td>NaN</td>\n",
       "      <td>...</td>\n",
       "      <td>Yes                                           ...</td>\n",
       "      <td>0</td>\n",
       "      <td>Yes                                           ...</td>\n",
       "      <td>Yes</td>\n",
       "      <td>18/05/20</td>\n",
       "      <td>786</td>\n",
       "      <td>Negative</td>\n",
       "      <td>NaN</td>\n",
       "      <td>NaN</td>\n",
       "      <td>NaN</td>\n",
       "    </tr>\n",
       "    <tr>\n",
       "      <th>156</th>\n",
       "      <td>ANDAMAN &amp; NICOBAR ISLANDS</td>\n",
       "      <td>SOUTH ANDAMAN</td>\n",
       "      <td>PORT BLAIR</td>\n",
       "      <td>G B PANT HOSPITAL</td>\n",
       "      <td>PHI</td>\n",
       "      <td>4</td>\n",
       "      <td>28/03/20</td>\n",
       "      <td>26/06/20</td>\n",
       "      <td>14612980</td>\n",
       "      <td>NaN</td>\n",
       "      <td>...</td>\n",
       "      <td>Yes                                           ...</td>\n",
       "      <td>0</td>\n",
       "      <td>Yes                                           ...</td>\n",
       "      <td>No</td>\n",
       "      <td>NaN</td>\n",
       "      <td>NaN</td>\n",
       "      <td>NaN</td>\n",
       "      <td>NaN</td>\n",
       "      <td>NaN</td>\n",
       "      <td>NaN</td>\n",
       "    </tr>\n",
       "  </tbody>\n",
       "</table>\n",
       "<p>2 rows × 63 columns</p>\n",
       "</div>"
      ],
      "text/plain": [
       "       DiagnosingFacilityState DiagnosingFacilityDistrict  \\\n",
       "116  ANDAMAN & NICOBAR ISLANDS              SOUTH ANDAMAN   \n",
       "156  ANDAMAN & NICOBAR ISLANDS              SOUTH ANDAMAN   \n",
       "\n",
       "    DiagnosingFacilityTBU DiagnosingFacilityPHI DiagnosingFacilityPHIType  \\\n",
       "116            PORT BLAIR     G B PANT HOSPITAL                       PHI   \n",
       "156            PORT BLAIR     G B PANT HOSPITAL                       PHI   \n",
       "\n",
       "     DiagnosingFacilityPHI_ID DiagnosisDate EnrollmentDate  EpisodeID  \\\n",
       "116                         4      16/03/20       18/03/20   13799542   \n",
       "156                         4      28/03/20       26/06/20   14612980   \n",
       "\n",
       "     OldNikshayId  ...                                   BankDetailsAdded  \\\n",
       "116           NaN  ...  Yes                                           ...   \n",
       "156           NaN  ...  Yes                                           ...   \n",
       "\n",
       "    FollowupDone_Count                                ContactTracing_Done  \\\n",
       "116                  0  Yes                                           ...   \n",
       "156                  0  Yes                                           ...   \n",
       "\n",
       "     UDST_Done EndOfIP_SM_DateOfReport  EndOfIP_LabID  \\\n",
       "116        Yes                18/05/20            786   \n",
       "156         No                     NaN            NaN   \n",
       "\n",
       "    EndOfIP_FinalInterpretation EndOfCP_SM_DateOfReport EndOfCP_LabID  \\\n",
       "116                    Negative                     NaN           NaN   \n",
       "156                         NaN                     NaN           NaN   \n",
       "\n",
       "    EndOfCP_FinalInterpretation  \n",
       "116                         NaN  \n",
       "156                         NaN  \n",
       "\n",
       "[2 rows x 63 columns]"
      ]
     },
     "execution_count": 35,
     "metadata": {},
     "output_type": "execute_result"
    }
   ],
   "source": [
    "qtr1_2020.loc[(qtr1_2020['HIV_Status'] == 'Reactive')]\n"
   ]
  },
  {
   "cell_type": "code",
   "execution_count": 36,
   "metadata": {},
   "outputs": [
    {
     "data": {
      "text/html": [
       "<div>\n",
       "<style scoped>\n",
       "    .dataframe tbody tr th:only-of-type {\n",
       "        vertical-align: middle;\n",
       "    }\n",
       "\n",
       "    .dataframe tbody tr th {\n",
       "        vertical-align: top;\n",
       "    }\n",
       "\n",
       "    .dataframe thead th {\n",
       "        text-align: right;\n",
       "    }\n",
       "</style>\n",
       "<table border=\"1\" class=\"dataframe\">\n",
       "  <thead>\n",
       "    <tr style=\"text-align: right;\">\n",
       "      <th></th>\n",
       "      <th>DiagnosingFacilityState</th>\n",
       "      <th>DiagnosingFacilityDistrict</th>\n",
       "      <th>DiagnosingFacilityTBU</th>\n",
       "      <th>DiagnosingFacilityPHI</th>\n",
       "      <th>DiagnosingFacilityPHIType</th>\n",
       "      <th>DiagnosingFacilityPHI_ID</th>\n",
       "      <th>DiagnosisDate</th>\n",
       "      <th>EnrollmentDate</th>\n",
       "      <th>EpisodeID</th>\n",
       "      <th>OldNikshayId</th>\n",
       "      <th>...</th>\n",
       "      <th>BankDetailsAdded</th>\n",
       "      <th>FollowupDone_Count</th>\n",
       "      <th>ContactTracing_Done</th>\n",
       "      <th>UDST_Done</th>\n",
       "      <th>EndOfIP_SM_DateOfReport</th>\n",
       "      <th>EndOfIP_LabID</th>\n",
       "      <th>EndOfIP_FinalInterpretation</th>\n",
       "      <th>EndOfCP_SM_DateOfReport</th>\n",
       "      <th>EndOfCP_LabID</th>\n",
       "      <th>EndOfCP_FinalInterpretation</th>\n",
       "    </tr>\n",
       "  </thead>\n",
       "  <tbody>\n",
       "    <tr>\n",
       "      <th>60</th>\n",
       "      <td>ANDAMAN &amp; NICOBAR ISLANDS</td>\n",
       "      <td>SOUTH ANDAMAN</td>\n",
       "      <td>PORT BLAIR</td>\n",
       "      <td>G B PANT HOSPITAL</td>\n",
       "      <td>PHI</td>\n",
       "      <td>4</td>\n",
       "      <td>25/06/20</td>\n",
       "      <td>26/06/20</td>\n",
       "      <td>14609709</td>\n",
       "      <td>NaN</td>\n",
       "      <td>...</td>\n",
       "      <td>Yes                                           ...</td>\n",
       "      <td>0</td>\n",
       "      <td>Yes                                           ...</td>\n",
       "      <td>No</td>\n",
       "      <td>NaN</td>\n",
       "      <td>NaN</td>\n",
       "      <td>NaN</td>\n",
       "      <td>NaN</td>\n",
       "      <td>NaN</td>\n",
       "      <td>NaN</td>\n",
       "    </tr>\n",
       "  </tbody>\n",
       "</table>\n",
       "<p>1 rows × 63 columns</p>\n",
       "</div>"
      ],
      "text/plain": [
       "      DiagnosingFacilityState DiagnosingFacilityDistrict  \\\n",
       "60  ANDAMAN & NICOBAR ISLANDS              SOUTH ANDAMAN   \n",
       "\n",
       "   DiagnosingFacilityTBU DiagnosingFacilityPHI DiagnosingFacilityPHIType  \\\n",
       "60            PORT BLAIR     G B PANT HOSPITAL                       PHI   \n",
       "\n",
       "    DiagnosingFacilityPHI_ID DiagnosisDate EnrollmentDate  EpisodeID  \\\n",
       "60                         4      25/06/20       26/06/20   14609709   \n",
       "\n",
       "    OldNikshayId  ...                                   BankDetailsAdded  \\\n",
       "60           NaN  ...  Yes                                           ...   \n",
       "\n",
       "   FollowupDone_Count                                ContactTracing_Done  \\\n",
       "60                  0  Yes                                           ...   \n",
       "\n",
       "    UDST_Done EndOfIP_SM_DateOfReport  EndOfIP_LabID  \\\n",
       "60         No                     NaN            NaN   \n",
       "\n",
       "   EndOfIP_FinalInterpretation EndOfCP_SM_DateOfReport EndOfCP_LabID  \\\n",
       "60                         NaN                     NaN           NaN   \n",
       "\n",
       "   EndOfCP_FinalInterpretation  \n",
       "60                         NaN  \n",
       "\n",
       "[1 rows x 63 columns]"
      ]
     },
     "execution_count": 36,
     "metadata": {},
     "output_type": "execute_result"
    }
   ],
   "source": [
    "qtr2_2020.loc[(qtr2_2020['HIV_Status'] == 'Reactive')]\n"
   ]
  },
  {
   "cell_type": "code",
   "execution_count": 37,
   "metadata": {},
   "outputs": [
    {
     "data": {
      "text/html": [
       "<div>\n",
       "<style scoped>\n",
       "    .dataframe tbody tr th:only-of-type {\n",
       "        vertical-align: middle;\n",
       "    }\n",
       "\n",
       "    .dataframe tbody tr th {\n",
       "        vertical-align: top;\n",
       "    }\n",
       "\n",
       "    .dataframe thead th {\n",
       "        text-align: right;\n",
       "    }\n",
       "</style>\n",
       "<table border=\"1\" class=\"dataframe\">\n",
       "  <thead>\n",
       "    <tr style=\"text-align: right;\">\n",
       "      <th></th>\n",
       "      <th>DiagnosingFacilityState</th>\n",
       "      <th>DiagnosingFacilityDistrict</th>\n",
       "      <th>DiagnosingFacilityTBU</th>\n",
       "      <th>DiagnosingFacilityPHI</th>\n",
       "      <th>DiagnosingFacilityPHIType</th>\n",
       "      <th>DiagnosingFacilityPHI_ID</th>\n",
       "      <th>DiagnosisDate</th>\n",
       "      <th>EnrollmentDate</th>\n",
       "      <th>EpisodeID</th>\n",
       "      <th>OldNikshayId</th>\n",
       "      <th>...</th>\n",
       "      <th>BankDetailsAdded</th>\n",
       "      <th>FollowupDone_Count</th>\n",
       "      <th>ContactTracing_Done</th>\n",
       "      <th>UDST_Done</th>\n",
       "      <th>EndOfIP_SM_DateOfReport</th>\n",
       "      <th>EndOfIP_LabID</th>\n",
       "      <th>EndOfIP_FinalInterpretation</th>\n",
       "      <th>EndOfCP_SM_DateOfReport</th>\n",
       "      <th>EndOfCP_LabID</th>\n",
       "      <th>EndOfCP_FinalInterpretation</th>\n",
       "    </tr>\n",
       "  </thead>\n",
       "  <tbody>\n",
       "  </tbody>\n",
       "</table>\n",
       "<p>0 rows × 63 columns</p>\n",
       "</div>"
      ],
      "text/plain": [
       "Empty DataFrame\n",
       "Columns: [DiagnosingFacilityState, DiagnosingFacilityDistrict, DiagnosingFacilityTBU, DiagnosingFacilityPHI, DiagnosingFacilityPHIType, DiagnosingFacilityPHI_ID, DiagnosisDate, EnrollmentDate, EpisodeID, OldNikshayId, PatientId, Patient_Status, PatientName, Age, Gender, Weight, Patient_Address, Taluka, Town, Ward, Landmark, Pincode, Residential_State, Residential_District, Residential_TU, PrimaryPhone, KeyPopulation, EnrollmentFacilityState, EnrollmentFacilityDistrict, EnrollmentFacilityTBU, EnrollmentFacilityPHI, EnrollmentFacilityPHIType, EnrollmentFacilityPHI_ID, UserID_Enrollment, HIV_Status, DiabetesStatus, basisOfDiagnosis_TestName, basisOfDiagnosis_LabSerialNo, basisOfDiagnosis_FinalInterpretation, Microbiologically_Confirmed, DateOf_TB_Treatment_Initiation, CurrentFacilityState, CurrentFacilityDistrict, CurrentFacilityTBU, CurrentFacilityPHI, CurrentFacilityPHIType, CurrentFacilityPHI_ID, TypeOfCase, PMDT_RegimenType, SiteOfDisease, EPSite, Treatment_Outcome, Treatment_Outcome_Date, BankDetailsAdded, FollowupDone_Count, ContactTracing_Done, UDST_Done, EndOfIP_SM_DateOfReport, EndOfIP_LabID, EndOfIP_FinalInterpretation, EndOfCP_SM_DateOfReport, EndOfCP_LabID, EndOfCP_FinalInterpretation]\n",
       "Index: []\n",
       "\n",
       "[0 rows x 63 columns]"
      ]
     },
     "execution_count": 37,
     "metadata": {},
     "output_type": "execute_result"
    }
   ],
   "source": [
    "qtr3_2020.loc[(qtr3_2020['HIV_Status'] == 'Reactive')]\n"
   ]
  },
  {
   "cell_type": "code",
   "execution_count": 38,
   "metadata": {},
   "outputs": [
    {
     "data": {
      "text/plain": [
       "Series([], Name: Treatment_Outcome, dtype: object)"
      ]
     },
     "execution_count": 38,
     "metadata": {},
     "output_type": "execute_result"
    }
   ],
   "source": [
    "qtr4_2020.loc[(qtr4_2020['HIV_Status'] == 'Reactive'), 'Treatment_Outcome']\n"
   ]
  },
  {
   "cell_type": "code",
   "execution_count": 39,
   "metadata": {},
   "outputs": [
    {
     "data": {
      "text/plain": [
       "159"
      ]
     },
     "execution_count": 39,
     "metadata": {},
     "output_type": "execute_result"
    }
   ],
   "source": [
    "qtr1_2019.loc[qtr1_2019['Treatment_Outcome']!='LOST_TO_FOLLOW_UP'].shape[0]-qtr1_2019.loc[qtr1_2019['Treatment_Outcome']=='LOST_TO_FOLLOW_UP'].shape[0]"
   ]
  },
  {
   "cell_type": "code",
   "execution_count": 40,
   "metadata": {},
   "outputs": [
    {
     "data": {
      "text/plain": [
       "122"
      ]
     },
     "execution_count": 40,
     "metadata": {},
     "output_type": "execute_result"
    }
   ],
   "source": [
    "qtr2_2019.loc[qtr2_2019['Treatment_Outcome']!='LOST_TO_FOLLOW_UP'].shape[0]-qtr2_2019.loc[qtr2_2019['Treatment_Outcome']=='LOST_TO_FOLLOW_UP'].shape[0]"
   ]
  },
  {
   "cell_type": "code",
   "execution_count": 41,
   "metadata": {},
   "outputs": [
    {
     "data": {
      "text/plain": [
       "142"
      ]
     },
     "execution_count": 41,
     "metadata": {},
     "output_type": "execute_result"
    }
   ],
   "source": [
    "qtr3_2019.loc[qtr3_2019['Treatment_Outcome']!='LOST_TO_FOLLOW_UP'].shape[0]-qtr3_2019.loc[qtr3_2019['Treatment_Outcome']=='LOST_TO_FOLLOW_UP'].shape[0]"
   ]
  },
  {
   "cell_type": "code",
   "execution_count": 42,
   "metadata": {},
   "outputs": [
    {
     "data": {
      "text/plain": [
       "121"
      ]
     },
     "execution_count": 42,
     "metadata": {},
     "output_type": "execute_result"
    }
   ],
   "source": [
    "qtr4_2019.loc[qtr4_2019['Treatment_Outcome']!='LOST_TO_FOLLOW_UP'].shape[0]-qtr4_2019.loc[qtr4_2019['Treatment_Outcome']=='LOST_TO_FOLLOW_UP'].shape[0]"
   ]
  },
  {
   "cell_type": "markdown",
   "metadata": {},
   "source": [
    "### Total = 544"
   ]
  },
  {
   "cell_type": "code",
   "execution_count": 43,
   "metadata": {},
   "outputs": [
    {
     "data": {
      "text/plain": [
       "580"
      ]
     },
     "execution_count": 43,
     "metadata": {},
     "output_type": "execute_result"
    }
   ],
   "source": [
    "qtr1_2019.shape[0] + qtr2_2019.shape[0] + qtr3_2019.shape[0] +qtr4_2019.shape[0]"
   ]
  },
  {
   "cell_type": "markdown",
   "metadata": {},
   "source": [
    "### No. of DRTB Patients declared (treatment outcome)"
   ]
  },
  {
   "cell_type": "code",
   "execution_count": 44,
   "metadata": {},
   "outputs": [
    {
     "data": {
      "text/plain": [
       "Index(['DiagnosingFacilityState', 'DiagnosingFacilityDistrict',\n",
       "       'DiagnosingFacilityTBU', 'DiagnosingFacilityPHI',\n",
       "       'DiagnosingFacilityPHIType', 'DiagnosingFacilityPHI_ID',\n",
       "       'DiagnosisDate', 'EnrollmentDate', 'EpisodeID', 'OldNikshayId',\n",
       "       'PatientId', 'Patient_Status', 'PatientName', 'Age', 'Gender', 'Weight',\n",
       "       'Patient_Address', 'Taluka', 'Town', 'Ward', 'Landmark', 'Pincode',\n",
       "       'Residential_State', 'Residential_District', 'Residential_TU',\n",
       "       'PrimaryPhone', 'KeyPopulation', 'EnrollmentFacilityState',\n",
       "       'EnrollmentFacilityDistrict', 'EnrollmentFacilityTBU',\n",
       "       'EnrollmentFacilityPHI', 'EnrollmentFacilityPHIType',\n",
       "       'EnrollmentFacilityPHI_ID', 'UserID_Enrollment', 'HIV_Status',\n",
       "       'DiabetesStatus', 'basisOfDiagnosis_TestName',\n",
       "       'basisOfDiagnosis_LabSerialNo', 'basisOfDiagnosis_FinalInterpretation',\n",
       "       'Microbiologically_Confirmed', 'DateOf_TB_Treatment_Initiation',\n",
       "       'CurrentFacilityState', 'CurrentFacilityDistrict', 'CurrentFacilityTBU',\n",
       "       'CurrentFacilityPHI', 'CurrentFacilityPHIType', 'CurrentFacilityPHI_ID',\n",
       "       'TypeOfCase', 'PMDT_RegimenType', 'SiteOfDisease', 'EPSite',\n",
       "       'Treatment_Outcome', 'Treatment_Outcome_Date', 'BankDetailsAdded',\n",
       "       'FollowupDone_Count', 'ContactTracing_Done', 'UDST_Done',\n",
       "       'EndOfIP_SM_DateOfReport', 'EndOfIP_LabID',\n",
       "       'EndOfIP_FinalInterpretation', 'EndOfCP_SM_DateOfReport',\n",
       "       'EndOfCP_LabID', 'EndOfCP_FinalInterpretation'],\n",
       "      dtype='object')"
      ]
     },
     "execution_count": 44,
     "metadata": {},
     "output_type": "execute_result"
    }
   ],
   "source": [
    "qtr1_2020.columns"
   ]
  },
  {
   "cell_type": "code",
   "execution_count": 45,
   "metadata": {},
   "outputs": [
    {
     "data": {
      "text/plain": [
       "<AxesSubplot:>"
      ]
     },
     "execution_count": 45,
     "metadata": {},
     "output_type": "execute_result"
    },
    {
     "data": {
      "image/png": "[encoded data removed]",
      "text/plain": [
       "<Figure size 1008x432 with 1 Axes>"
      ]
     },
     "metadata": {
      "needs_background": "light"
     },
     "output_type": "display_data"
    }
   ],
   "source": [
    "qtr1_2020['DiagnosingFacilityPHI'].value_counts().plot(kind='bar', figsize=(14,6))"
   ]
  },
  {
   "cell_type": "code",
   "execution_count": 46,
   "metadata": {},
   "outputs": [
    {
     "data": {
      "text/plain": [
       "<AxesSubplot:>"
      ]
     },
     "execution_count": 46,
     "metadata": {},
     "output_type": "execute_result"
    },
    {
     "data": {
      "image/png": "[encoded data removed]",
      "text/plain": [
       "<Figure size 1008x432 with 1 Axes>"
      ]
     },
     "metadata": {
      "needs_background": "light"
     },
     "output_type": "display_data"
    }
   ],
   "source": [
    "qtr1_2020['Treatment_Outcome'].value_counts().plot(kind='line', figsize=(14,6))"
   ]
  },
  {
   "cell_type": "code",
   "execution_count": 47,
   "metadata": {},
   "outputs": [],
   "source": [
    "qtr1_DRTB = qtr1_2020.loc[qtr1_2020['basisOfDiagnosis_FinalInterpretation']=='M.tb detected, Rif resistance detected']"
   ]
  },
  {
   "cell_type": "code",
   "execution_count": 48,
   "metadata": {},
   "outputs": [
    {
     "data": {
      "text/plain": [
       "Clinically Diagnosed TB                       75\n",
       "M.tb detected, Rif resistance not detected    41\n",
       "Positive                                      37\n",
       "M.tb detected, Rif resistance detected        12\n",
       "Name: basisOfDiagnosis_FinalInterpretation, dtype: int64"
      ]
     },
     "execution_count": 48,
     "metadata": {},
     "output_type": "execute_result"
    }
   ],
   "source": [
    "qtr1_2020['basisOfDiagnosis_FinalInterpretation'].value_counts()"
   ]
  },
  {
   "cell_type": "code",
   "execution_count": 49,
   "metadata": {},
   "outputs": [
    {
     "data": {
      "text/html": [
       "<div>\n",
       "<style scoped>\n",
       "    .dataframe tbody tr th:only-of-type {\n",
       "        vertical-align: middle;\n",
       "    }\n",
       "\n",
       "    .dataframe tbody tr th {\n",
       "        vertical-align: top;\n",
       "    }\n",
       "\n",
       "    .dataframe thead th {\n",
       "        text-align: right;\n",
       "    }\n",
       "</style>\n",
       "<table border=\"1\" class=\"dataframe\">\n",
       "  <thead>\n",
       "    <tr style=\"text-align: right;\">\n",
       "      <th></th>\n",
       "      <th>DiagnosingFacilityState</th>\n",
       "      <th>DiagnosingFacilityDistrict</th>\n",
       "      <th>DiagnosingFacilityTBU</th>\n",
       "      <th>DiagnosingFacilityPHI</th>\n",
       "      <th>DiagnosingFacilityPHIType</th>\n",
       "      <th>DiagnosingFacilityPHI_ID</th>\n",
       "      <th>DiagnosisDate</th>\n",
       "      <th>EnrollmentDate</th>\n",
       "      <th>EpisodeID</th>\n",
       "      <th>OldNikshayId</th>\n",
       "      <th>...</th>\n",
       "      <th>BankDetailsAdded</th>\n",
       "      <th>FollowupDone_Count</th>\n",
       "      <th>ContactTracing_Done</th>\n",
       "      <th>UDST_Done</th>\n",
       "      <th>EndOfIP_SM_DateOfReport</th>\n",
       "      <th>EndOfIP_LabID</th>\n",
       "      <th>EndOfIP_FinalInterpretation</th>\n",
       "      <th>EndOfCP_SM_DateOfReport</th>\n",
       "      <th>EndOfCP_LabID</th>\n",
       "      <th>EndOfCP_FinalInterpretation</th>\n",
       "    </tr>\n",
       "  </thead>\n",
       "  <tbody>\n",
       "    <tr>\n",
       "      <th>11</th>\n",
       "      <td>ANDAMAN &amp; NICOBAR ISLANDS</td>\n",
       "      <td>SOUTH ANDAMAN</td>\n",
       "      <td>PORT BLAIR</td>\n",
       "      <td>G B PANT HOSPITAL</td>\n",
       "      <td>PHI</td>\n",
       "      <td>4</td>\n",
       "      <td>20/01/20</td>\n",
       "      <td>24/01/20</td>\n",
       "      <td>12784725</td>\n",
       "      <td>NaN</td>\n",
       "      <td>...</td>\n",
       "      <td>Yes                                           ...</td>\n",
       "      <td>0</td>\n",
       "      <td>No                                            ...</td>\n",
       "      <td>Yes</td>\n",
       "      <td>NaN</td>\n",
       "      <td>NaN</td>\n",
       "      <td>NaN</td>\n",
       "      <td>NaN</td>\n",
       "      <td>NaN</td>\n",
       "      <td>NaN</td>\n",
       "    </tr>\n",
       "    <tr>\n",
       "      <th>12</th>\n",
       "      <td>ANDAMAN &amp; NICOBAR ISLANDS</td>\n",
       "      <td>NORTH &amp; MIDDLE ANDAMAN</td>\n",
       "      <td>MAYABUNDER</td>\n",
       "      <td>DR. R.P.HOSPITAL, MAYABUNDER</td>\n",
       "      <td>PHI</td>\n",
       "      <td>1</td>\n",
       "      <td>09/01/20</td>\n",
       "      <td>18/01/20</td>\n",
       "      <td>12690674</td>\n",
       "      <td>NaN</td>\n",
       "      <td>...</td>\n",
       "      <td>Yes                                           ...</td>\n",
       "      <td>0</td>\n",
       "      <td>Yes                                           ...</td>\n",
       "      <td>Yes</td>\n",
       "      <td>NaN</td>\n",
       "      <td>NaN</td>\n",
       "      <td>NaN</td>\n",
       "      <td>NaN</td>\n",
       "      <td>NaN</td>\n",
       "      <td>NaN</td>\n",
       "    </tr>\n",
       "    <tr>\n",
       "      <th>25</th>\n",
       "      <td>ANDAMAN &amp; NICOBAR ISLANDS</td>\n",
       "      <td>SOUTH ANDAMAN</td>\n",
       "      <td>PORT BLAIR</td>\n",
       "      <td>G B PANT HOSPITAL</td>\n",
       "      <td>PHI</td>\n",
       "      <td>4</td>\n",
       "      <td>23/01/20</td>\n",
       "      <td>28/01/20</td>\n",
       "      <td>12836061</td>\n",
       "      <td>NaN</td>\n",
       "      <td>...</td>\n",
       "      <td>Yes                                           ...</td>\n",
       "      <td>0</td>\n",
       "      <td>Yes                                           ...</td>\n",
       "      <td>Yes</td>\n",
       "      <td>NaN</td>\n",
       "      <td>NaN</td>\n",
       "      <td>NaN</td>\n",
       "      <td>NaN</td>\n",
       "      <td>NaN</td>\n",
       "      <td>NaN</td>\n",
       "    </tr>\n",
       "    <tr>\n",
       "      <th>30</th>\n",
       "      <td>ANDAMAN &amp; NICOBAR ISLANDS</td>\n",
       "      <td>SOUTH ANDAMAN</td>\n",
       "      <td>PORT BLAIR</td>\n",
       "      <td>G B PANT HOSPITAL</td>\n",
       "      <td>PHI</td>\n",
       "      <td>4</td>\n",
       "      <td>14/01/20</td>\n",
       "      <td>12/02/20</td>\n",
       "      <td>13131338</td>\n",
       "      <td>NaN</td>\n",
       "      <td>...</td>\n",
       "      <td>Yes                                           ...</td>\n",
       "      <td>0</td>\n",
       "      <td>Yes                                           ...</td>\n",
       "      <td>Yes</td>\n",
       "      <td>NaN</td>\n",
       "      <td>NaN</td>\n",
       "      <td>NaN</td>\n",
       "      <td>NaN</td>\n",
       "      <td>NaN</td>\n",
       "      <td>NaN</td>\n",
       "    </tr>\n",
       "    <tr>\n",
       "      <th>52</th>\n",
       "      <td>ANDAMAN &amp; NICOBAR ISLANDS</td>\n",
       "      <td>SOUTH ANDAMAN</td>\n",
       "      <td>PORT BLAIR</td>\n",
       "      <td>G B PANT HOSPITAL</td>\n",
       "      <td>PHI</td>\n",
       "      <td>4</td>\n",
       "      <td>08/02/20</td>\n",
       "      <td>11/02/20</td>\n",
       "      <td>13102285</td>\n",
       "      <td>NaN</td>\n",
       "      <td>...</td>\n",
       "      <td>Yes                                           ...</td>\n",
       "      <td>0</td>\n",
       "      <td>Yes                                           ...</td>\n",
       "      <td>Yes</td>\n",
       "      <td>NaN</td>\n",
       "      <td>NaN</td>\n",
       "      <td>NaN</td>\n",
       "      <td>NaN</td>\n",
       "      <td>NaN</td>\n",
       "      <td>NaN</td>\n",
       "    </tr>\n",
       "    <tr>\n",
       "      <th>70</th>\n",
       "      <td>ANDAMAN &amp; NICOBAR ISLANDS</td>\n",
       "      <td>SOUTH ANDAMAN</td>\n",
       "      <td>PORT BLAIR</td>\n",
       "      <td>G B PANT HOSPITAL</td>\n",
       "      <td>PHI</td>\n",
       "      <td>4</td>\n",
       "      <td>28/02/20</td>\n",
       "      <td>04/03/20</td>\n",
       "      <td>13549203</td>\n",
       "      <td>NaN</td>\n",
       "      <td>...</td>\n",
       "      <td>Yes                                           ...</td>\n",
       "      <td>0</td>\n",
       "      <td>Yes                                           ...</td>\n",
       "      <td>Yes</td>\n",
       "      <td>NaN</td>\n",
       "      <td>NaN</td>\n",
       "      <td>NaN</td>\n",
       "      <td>NaN</td>\n",
       "      <td>NaN</td>\n",
       "      <td>NaN</td>\n",
       "    </tr>\n",
       "    <tr>\n",
       "      <th>84</th>\n",
       "      <td>ANDAMAN &amp; NICOBAR ISLANDS</td>\n",
       "      <td>SOUTH ANDAMAN</td>\n",
       "      <td>PORT BLAIR</td>\n",
       "      <td>G B PANT HOSPITAL</td>\n",
       "      <td>PHI</td>\n",
       "      <td>4</td>\n",
       "      <td>27/02/20</td>\n",
       "      <td>04/03/20</td>\n",
       "      <td>13545962</td>\n",
       "      <td>NaN</td>\n",
       "      <td>...</td>\n",
       "      <td>Yes                                           ...</td>\n",
       "      <td>0</td>\n",
       "      <td>Yes                                           ...</td>\n",
       "      <td>Yes</td>\n",
       "      <td>NaN</td>\n",
       "      <td>NaN</td>\n",
       "      <td>NaN</td>\n",
       "      <td>NaN</td>\n",
       "      <td>NaN</td>\n",
       "      <td>NaN</td>\n",
       "    </tr>\n",
       "    <tr>\n",
       "      <th>85</th>\n",
       "      <td>ANDAMAN &amp; NICOBAR ISLANDS</td>\n",
       "      <td>SOUTH ANDAMAN</td>\n",
       "      <td>PORT BLAIR</td>\n",
       "      <td>G B PANT HOSPITAL</td>\n",
       "      <td>PHI</td>\n",
       "      <td>4</td>\n",
       "      <td>24/02/20</td>\n",
       "      <td>04/03/20</td>\n",
       "      <td>13547149</td>\n",
       "      <td>NaN</td>\n",
       "      <td>...</td>\n",
       "      <td>Yes                                           ...</td>\n",
       "      <td>0</td>\n",
       "      <td>Yes                                           ...</td>\n",
       "      <td>Yes</td>\n",
       "      <td>NaN</td>\n",
       "      <td>NaN</td>\n",
       "      <td>NaN</td>\n",
       "      <td>NaN</td>\n",
       "      <td>NaN</td>\n",
       "      <td>NaN</td>\n",
       "    </tr>\n",
       "    <tr>\n",
       "      <th>86</th>\n",
       "      <td>ANDAMAN &amp; NICOBAR ISLANDS</td>\n",
       "      <td>SOUTH ANDAMAN</td>\n",
       "      <td>PORT BLAIR</td>\n",
       "      <td>G B PANT HOSPITAL</td>\n",
       "      <td>PHI</td>\n",
       "      <td>4</td>\n",
       "      <td>25/02/20</td>\n",
       "      <td>04/03/20</td>\n",
       "      <td>13547878</td>\n",
       "      <td>NaN</td>\n",
       "      <td>...</td>\n",
       "      <td>Yes                                           ...</td>\n",
       "      <td>0</td>\n",
       "      <td>Yes                                           ...</td>\n",
       "      <td>Yes</td>\n",
       "      <td>NaN</td>\n",
       "      <td>NaN</td>\n",
       "      <td>NaN</td>\n",
       "      <td>NaN</td>\n",
       "      <td>NaN</td>\n",
       "      <td>NaN</td>\n",
       "    </tr>\n",
       "    <tr>\n",
       "      <th>105</th>\n",
       "      <td>ANDAMAN &amp; NICOBAR ISLANDS</td>\n",
       "      <td>SOUTH ANDAMAN</td>\n",
       "      <td>PORT BLAIR</td>\n",
       "      <td>G B PANT HOSPITAL</td>\n",
       "      <td>PHI</td>\n",
       "      <td>4</td>\n",
       "      <td>03/02/20</td>\n",
       "      <td>16/03/20</td>\n",
       "      <td>13743832</td>\n",
       "      <td>NaN</td>\n",
       "      <td>...</td>\n",
       "      <td>Yes                                           ...</td>\n",
       "      <td>0</td>\n",
       "      <td>Yes                                           ...</td>\n",
       "      <td>Yes</td>\n",
       "      <td>NaN</td>\n",
       "      <td>NaN</td>\n",
       "      <td>NaN</td>\n",
       "      <td>NaN</td>\n",
       "      <td>NaN</td>\n",
       "      <td>NaN</td>\n",
       "    </tr>\n",
       "    <tr>\n",
       "      <th>113</th>\n",
       "      <td>ANDAMAN &amp; NICOBAR ISLANDS</td>\n",
       "      <td>SOUTH ANDAMAN</td>\n",
       "      <td>PORT BLAIR</td>\n",
       "      <td>G B PANT HOSPITAL</td>\n",
       "      <td>PHI</td>\n",
       "      <td>4</td>\n",
       "      <td>12/03/20</td>\n",
       "      <td>17/03/20</td>\n",
       "      <td>13770484</td>\n",
       "      <td>NaN</td>\n",
       "      <td>...</td>\n",
       "      <td>Yes                                           ...</td>\n",
       "      <td>0</td>\n",
       "      <td>Yes                                           ...</td>\n",
       "      <td>Yes</td>\n",
       "      <td>NaN</td>\n",
       "      <td>NaN</td>\n",
       "      <td>NaN</td>\n",
       "      <td>09/11/20</td>\n",
       "      <td>1267</td>\n",
       "      <td>Negative</td>\n",
       "    </tr>\n",
       "    <tr>\n",
       "      <th>164</th>\n",
       "      <td>ANDAMAN &amp; NICOBAR ISLANDS</td>\n",
       "      <td>SOUTH ANDAMAN</td>\n",
       "      <td>PORT BLAIR</td>\n",
       "      <td>G B PANT HOSPITAL</td>\n",
       "      <td>PHI</td>\n",
       "      <td>4</td>\n",
       "      <td>18/03/20</td>\n",
       "      <td>23/10/20</td>\n",
       "      <td>15710530</td>\n",
       "      <td>NaN</td>\n",
       "      <td>...</td>\n",
       "      <td>Yes                                           ...</td>\n",
       "      <td>0</td>\n",
       "      <td>Yes                                           ...</td>\n",
       "      <td>Yes</td>\n",
       "      <td>NaN</td>\n",
       "      <td>NaN</td>\n",
       "      <td>NaN</td>\n",
       "      <td>NaN</td>\n",
       "      <td>NaN</td>\n",
       "      <td>NaN</td>\n",
       "    </tr>\n",
       "  </tbody>\n",
       "</table>\n",
       "<p>12 rows × 63 columns</p>\n",
       "</div>"
      ],
      "text/plain": [
       "       DiagnosingFacilityState DiagnosingFacilityDistrict  \\\n",
       "11   ANDAMAN & NICOBAR ISLANDS              SOUTH ANDAMAN   \n",
       "12   ANDAMAN & NICOBAR ISLANDS     NORTH & MIDDLE ANDAMAN   \n",
       "25   ANDAMAN & NICOBAR ISLANDS              SOUTH ANDAMAN   \n",
       "30   ANDAMAN & NICOBAR ISLANDS              SOUTH ANDAMAN   \n",
       "52   ANDAMAN & NICOBAR ISLANDS              SOUTH ANDAMAN   \n",
       "70   ANDAMAN & NICOBAR ISLANDS              SOUTH ANDAMAN   \n",
       "84   ANDAMAN & NICOBAR ISLANDS              SOUTH ANDAMAN   \n",
       "85   ANDAMAN & NICOBAR ISLANDS              SOUTH ANDAMAN   \n",
       "86   ANDAMAN & NICOBAR ISLANDS              SOUTH ANDAMAN   \n",
       "105  ANDAMAN & NICOBAR ISLANDS              SOUTH ANDAMAN   \n",
       "113  ANDAMAN & NICOBAR ISLANDS              SOUTH ANDAMAN   \n",
       "164  ANDAMAN & NICOBAR ISLANDS              SOUTH ANDAMAN   \n",
       "\n",
       "    DiagnosingFacilityTBU         DiagnosingFacilityPHI  \\\n",
       "11             PORT BLAIR             G B PANT HOSPITAL   \n",
       "12             MAYABUNDER  DR. R.P.HOSPITAL, MAYABUNDER   \n",
       "25             PORT BLAIR             G B PANT HOSPITAL   \n",
       "30             PORT BLAIR             G B PANT HOSPITAL   \n",
       "52             PORT BLAIR             G B PANT HOSPITAL   \n",
       "70             PORT BLAIR             G B PANT HOSPITAL   \n",
       "84             PORT BLAIR             G B PANT HOSPITAL   \n",
       "85             PORT BLAIR             G B PANT HOSPITAL   \n",
       "86             PORT BLAIR             G B PANT HOSPITAL   \n",
       "105            PORT BLAIR             G B PANT HOSPITAL   \n",
       "113            PORT BLAIR             G B PANT HOSPITAL   \n",
       "164            PORT BLAIR             G B PANT HOSPITAL   \n",
       "\n",
       "    DiagnosingFacilityPHIType  DiagnosingFacilityPHI_ID DiagnosisDate  \\\n",
       "11                        PHI                         4      20/01/20   \n",
       "12                        PHI                         1      09/01/20   \n",
       "25                        PHI                         4      23/01/20   \n",
       "30                        PHI                         4      14/01/20   \n",
       "52                        PHI                         4      08/02/20   \n",
       "70                        PHI                         4      28/02/20   \n",
       "84                        PHI                         4      27/02/20   \n",
       "85                        PHI                         4      24/02/20   \n",
       "86                        PHI                         4      25/02/20   \n",
       "105                       PHI                         4      03/02/20   \n",
       "113                       PHI                         4      12/03/20   \n",
       "164                       PHI                         4      18/03/20   \n",
       "\n",
       "    EnrollmentDate  EpisodeID  OldNikshayId  ...  \\\n",
       "11        24/01/20   12784725           NaN  ...   \n",
       "12        18/01/20   12690674           NaN  ...   \n",
       "25        28/01/20   12836061           NaN  ...   \n",
       "30        12/02/20   13131338           NaN  ...   \n",
       "52        11/02/20   13102285           NaN  ...   \n",
       "70        04/03/20   13549203           NaN  ...   \n",
       "84        04/03/20   13545962           NaN  ...   \n",
       "85        04/03/20   13547149           NaN  ...   \n",
       "86        04/03/20   13547878           NaN  ...   \n",
       "105       16/03/20   13743832           NaN  ...   \n",
       "113       17/03/20   13770484           NaN  ...   \n",
       "164       23/10/20   15710530           NaN  ...   \n",
       "\n",
       "                                      BankDetailsAdded FollowupDone_Count  \\\n",
       "11   Yes                                           ...                  0   \n",
       "12   Yes                                           ...                  0   \n",
       "25   Yes                                           ...                  0   \n",
       "30   Yes                                           ...                  0   \n",
       "52   Yes                                           ...                  0   \n",
       "70   Yes                                           ...                  0   \n",
       "84   Yes                                           ...                  0   \n",
       "85   Yes                                           ...                  0   \n",
       "86   Yes                                           ...                  0   \n",
       "105  Yes                                           ...                  0   \n",
       "113  Yes                                           ...                  0   \n",
       "164  Yes                                           ...                  0   \n",
       "\n",
       "                                   ContactTracing_Done  UDST_Done  \\\n",
       "11   No                                            ...        Yes   \n",
       "12   Yes                                           ...        Yes   \n",
       "25   Yes                                           ...        Yes   \n",
       "30   Yes                                           ...        Yes   \n",
       "52   Yes                                           ...        Yes   \n",
       "70   Yes                                           ...        Yes   \n",
       "84   Yes                                           ...        Yes   \n",
       "85   Yes                                           ...        Yes   \n",
       "86   Yes                                           ...        Yes   \n",
       "105  Yes                                           ...        Yes   \n",
       "113  Yes                                           ...        Yes   \n",
       "164  Yes                                           ...        Yes   \n",
       "\n",
       "    EndOfIP_SM_DateOfReport  EndOfIP_LabID EndOfIP_FinalInterpretation  \\\n",
       "11                      NaN            NaN                         NaN   \n",
       "12                      NaN            NaN                         NaN   \n",
       "25                      NaN            NaN                         NaN   \n",
       "30                      NaN            NaN                         NaN   \n",
       "52                      NaN            NaN                         NaN   \n",
       "70                      NaN            NaN                         NaN   \n",
       "84                      NaN            NaN                         NaN   \n",
       "85                      NaN            NaN                         NaN   \n",
       "86                      NaN            NaN                         NaN   \n",
       "105                     NaN            NaN                         NaN   \n",
       "113                     NaN            NaN                         NaN   \n",
       "164                     NaN            NaN                         NaN   \n",
       "\n",
       "    EndOfCP_SM_DateOfReport EndOfCP_LabID EndOfCP_FinalInterpretation  \n",
       "11                      NaN           NaN                         NaN  \n",
       "12                      NaN           NaN                         NaN  \n",
       "25                      NaN           NaN                         NaN  \n",
       "30                      NaN           NaN                         NaN  \n",
       "52                      NaN           NaN                         NaN  \n",
       "70                      NaN           NaN                         NaN  \n",
       "84                      NaN           NaN                         NaN  \n",
       "85                      NaN           NaN                         NaN  \n",
       "86                      NaN           NaN                         NaN  \n",
       "105                     NaN           NaN                         NaN  \n",
       "113                09/11/20          1267                    Negative  \n",
       "164                     NaN           NaN                         NaN  \n",
       "\n",
       "[12 rows x 63 columns]"
      ]
     },
     "execution_count": 49,
     "metadata": {},
     "output_type": "execute_result"
    }
   ],
   "source": [
    "qtr1_DRTB"
   ]
  },
  {
   "cell_type": "code",
   "execution_count": 50,
   "metadata": {},
   "outputs": [
    {
     "data": {
      "text/plain": [
       "12"
      ]
     },
     "execution_count": 50,
     "metadata": {},
     "output_type": "execute_result"
    }
   ],
   "source": [
    "qtr1_DRTB.shape[0]"
   ]
  },
  {
   "cell_type": "code",
   "execution_count": null,
   "metadata": {},
   "outputs": [],
   "source": []
  },
  {
   "cell_type": "code",
   "execution_count": 51,
   "metadata": {},
   "outputs": [
    {
     "data": {
      "text/plain": [
       "8"
      ]
     },
     "execution_count": 51,
     "metadata": {},
     "output_type": "execute_result"
    }
   ],
   "source": [
    "qtr1_DRTB['Treatment_Outcome'].isna().sum()"
   ]
  },
  {
   "cell_type": "code",
   "execution_count": 52,
   "metadata": {},
   "outputs": [
    {
     "data": {
      "text/plain": [
       "4"
      ]
     },
     "execution_count": 52,
     "metadata": {},
     "output_type": "execute_result"
    }
   ],
   "source": [
    "12-8 #qtr1_2020"
   ]
  },
  {
   "cell_type": "code",
   "execution_count": 53,
   "metadata": {},
   "outputs": [],
   "source": [
    "qtr2_DRTB = qtr2_2020.loc[qtr2_2020['basisOfDiagnosis_FinalInterpretation']=='M.tb detected, Rif resistance detected']"
   ]
  },
  {
   "cell_type": "code",
   "execution_count": 54,
   "metadata": {},
   "outputs": [
    {
     "data": {
      "text/plain": [
       "5"
      ]
     },
     "execution_count": 54,
     "metadata": {},
     "output_type": "execute_result"
    }
   ],
   "source": [
    "qtr2_DRTB.shape[0]"
   ]
  },
  {
   "cell_type": "code",
   "execution_count": 55,
   "metadata": {},
   "outputs": [
    {
     "data": {
      "text/plain": [
       "3"
      ]
     },
     "execution_count": 55,
     "metadata": {},
     "output_type": "execute_result"
    }
   ],
   "source": [
    "qtr2_DRTB['Treatment_Outcome'].isna().sum()"
   ]
  },
  {
   "cell_type": "code",
   "execution_count": 56,
   "metadata": {},
   "outputs": [
    {
     "data": {
      "text/plain": [
       "2"
      ]
     },
     "execution_count": 56,
     "metadata": {},
     "output_type": "execute_result"
    }
   ],
   "source": [
    "5-3  #qtr2_2020"
   ]
  },
  {
   "cell_type": "code",
   "execution_count": 57,
   "metadata": {},
   "outputs": [],
   "source": [
    "qtr3_DRTB = qtr3_2020.loc[qtr3_2020['basisOfDiagnosis_FinalInterpretation']=='M.tb detected, Rif resistance detected']"
   ]
  },
  {
   "cell_type": "code",
   "execution_count": 58,
   "metadata": {},
   "outputs": [
    {
     "data": {
      "text/plain": [
       "10"
      ]
     },
     "execution_count": 58,
     "metadata": {},
     "output_type": "execute_result"
    }
   ],
   "source": [
    "qtr3_DRTB.shape[0]"
   ]
  },
  {
   "cell_type": "code",
   "execution_count": 59,
   "metadata": {},
   "outputs": [
    {
     "data": {
      "text/plain": [
       "7"
      ]
     },
     "execution_count": 59,
     "metadata": {},
     "output_type": "execute_result"
    }
   ],
   "source": [
    "qtr3_DRTB['Treatment_Outcome'].isna().sum()"
   ]
  },
  {
   "cell_type": "code",
   "execution_count": 60,
   "metadata": {},
   "outputs": [
    {
     "data": {
      "text/plain": [
       "3"
      ]
     },
     "execution_count": 60,
     "metadata": {},
     "output_type": "execute_result"
    }
   ],
   "source": [
    "10-7"
   ]
  },
  {
   "cell_type": "code",
   "execution_count": 61,
   "metadata": {},
   "outputs": [],
   "source": [
    "qtr4_DRTB = qtr4_2020.loc[qtr4_2020['basisOfDiagnosis_FinalInterpretation']=='M.tb detected, Rif resistance detected']"
   ]
  },
  {
   "cell_type": "code",
   "execution_count": 62,
   "metadata": {},
   "outputs": [
    {
     "data": {
      "text/plain": [
       "13"
      ]
     },
     "execution_count": 62,
     "metadata": {},
     "output_type": "execute_result"
    }
   ],
   "source": [
    "qtr4_DRTB.shape[0]"
   ]
  },
  {
   "cell_type": "code",
   "execution_count": 63,
   "metadata": {},
   "outputs": [
    {
     "data": {
      "text/plain": [
       "10"
      ]
     },
     "execution_count": 63,
     "metadata": {},
     "output_type": "execute_result"
    }
   ],
   "source": [
    "qtr4_DRTB['Treatment_Outcome'].isna().sum()"
   ]
  },
  {
   "cell_type": "code",
   "execution_count": 64,
   "metadata": {},
   "outputs": [
    {
     "data": {
      "text/plain": [
       "3"
      ]
     },
     "execution_count": 64,
     "metadata": {},
     "output_type": "execute_result"
    }
   ],
   "source": [
    "13-10"
   ]
  },
  {
   "cell_type": "code",
   "execution_count": 65,
   "metadata": {},
   "outputs": [
    {
     "data": {
      "text/plain": [
       "12"
      ]
     },
     "execution_count": 65,
     "metadata": {},
     "output_type": "execute_result"
    }
   ],
   "source": [
    "3+3+2+4"
   ]
  },
  {
   "cell_type": "markdown",
   "metadata": {},
   "source": [
    "### 12  DRTB patients declared with outcome"
   ]
  },
  {
   "cell_type": "code",
   "execution_count": 66,
   "metadata": {},
   "outputs": [
    {
     "data": {
      "text/plain": [
       "40"
      ]
     },
     "execution_count": 66,
     "metadata": {},
     "output_type": "execute_result"
    }
   ],
   "source": [
    "13+10+5+12"
   ]
  },
  {
   "cell_type": "markdown",
   "metadata": {},
   "source": [
    "### 40 Total DRTB patients\n"
   ]
  },
  {
   "cell_type": "code",
   "execution_count": 67,
   "metadata": {},
   "outputs": [
    {
     "data": {
      "text/plain": [
       "DIED                  2\n",
       "TREATMENT_COMPLETE    1\n",
       "LOST_TO_FOLLOW_UP     1\n",
       "Name: Treatment_Outcome, dtype: int64"
      ]
     },
     "execution_count": 67,
     "metadata": {},
     "output_type": "execute_result"
    }
   ],
   "source": [
    "qtr1_DRTB['Treatment_Outcome'].value_counts()"
   ]
  },
  {
   "cell_type": "code",
   "execution_count": 68,
   "metadata": {},
   "outputs": [
    {
     "data": {
      "text/plain": [
       "DIED                         1\n",
       "TREATMENT_REGIMEN_CHANGED    1\n",
       "Name: Treatment_Outcome, dtype: int64"
      ]
     },
     "execution_count": 68,
     "metadata": {},
     "output_type": "execute_result"
    }
   ],
   "source": [
    "qtr2_DRTB['Treatment_Outcome'].value_counts()"
   ]
  },
  {
   "cell_type": "code",
   "execution_count": 69,
   "metadata": {},
   "outputs": [
    {
     "data": {
      "text/plain": [
       "DIED                 2\n",
       "TREATMENT_FAILURE    1\n",
       "Name: Treatment_Outcome, dtype: int64"
      ]
     },
     "execution_count": 69,
     "metadata": {},
     "output_type": "execute_result"
    }
   ],
   "source": [
    "qtr3_DRTB['Treatment_Outcome'].value_counts()"
   ]
  },
  {
   "cell_type": "code",
   "execution_count": 70,
   "metadata": {},
   "outputs": [
    {
     "data": {
      "text/plain": [
       "DIED    3\n",
       "Name: Treatment_Outcome, dtype: int64"
      ]
     },
     "execution_count": 70,
     "metadata": {},
     "output_type": "execute_result"
    }
   ],
   "source": [
    "qtr4_DRTB['Treatment_Outcome'].value_counts()"
   ]
  },
  {
   "cell_type": "code",
   "execution_count": 71,
   "metadata": {},
   "outputs": [
    {
     "data": {
      "text/plain": [
       "8"
      ]
     },
     "execution_count": 71,
     "metadata": {},
     "output_type": "execute_result"
    }
   ],
   "source": [
    "3+2+1+2"
   ]
  },
  {
   "cell_type": "code",
   "execution_count": null,
   "metadata": {},
   "outputs": [],
   "source": []
  }
 ],
 "metadata": {
  "kernelspec": {
   "display_name": "Python 3",
   "language": "python",
   "name": "python3"
  },
  "language_info": {
   "codemirror_mode": {
    "name": "ipython",
    "version": 3
   },
   "file_extension": ".py",
   "mimetype": "text/x-python",
   "name": "python",
   "nbconvert_exporter": "python",
   "pygments_lexer": "ipython3",
   "version": "3.8.5"
  }
 },
 "nbformat": 4,
 "nbformat_minor": 4
}
